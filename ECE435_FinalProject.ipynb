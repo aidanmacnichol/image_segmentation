{
  "nbformat": 4,
  "nbformat_minor": 0,
  "metadata": {
    "colab": {
      "provenance": [],
      "collapsed_sections": [
        "yzhcXm4hzr-k",
        "7S1Rg0500aDm",
        "GDM-nFyi0qTN",
        "J89qcZy52Hmq"
      ]
    },
    "kernelspec": {
      "name": "python3",
      "display_name": "Python 3"
    },
    "language_info": {
      "name": "python"
    }
  },
  "cells": [
    {
      "cell_type": "markdown",
      "source": [
        "# README\n",
        "This is our code. In the report we talk about slice 4 & 11 from dataset 7. These masks are also shown in the output along with the F1 score at the bottom. The output of the CNN approach is the second cell under the \"Deep Learning Approach\" header.  \n",
        "\n",
        "The submission also contains notebook files with the cleaned up code for submission."
      ],
      "metadata": {
        "id": "n5O6YS3I-ORJ"
      }
    },
    {
      "cell_type": "code",
      "source": [
        "path = '/content/7_image_and_mask.tiff'\n",
        "\n",
        "# 4 is the index of the image that works well\n",
        "# 11 bad\n",
        "\n",
        "# 1 no mask but our model still makes a mask\n",
        "# 20 no mask but our model slightly worked\n",
        "predMasks, trueMasks = CIPT(path, 4, 11)\n",
        "\n",
        "score = computeF1(predMasks, trueMasks)\n",
        "print(f\"Final F1 Score: {score}\")\n"
      ],
      "metadata": {
        "colab": {
          "base_uri": "https://localhost:8080/",
          "height": 736
        },
        "id": "zOKOT_4Jmy2w",
        "outputId": "4e3e2058-3a24-425b-a08b-28b2123ba631"
      },
      "execution_count": null,
      "outputs": [
        {
          "output_type": "stream",
          "name": "stdout",
          "text": [
            "Predicted Mask (slice 4)\n"
          ]
        },
        {
          "output_type": "display_data",
          "data": {
            "text/plain": [
              "<PIL.Image.Image image mode=L size=404x157>"
            ],
            "image/png": "[encoded data removed]"
          },
          "metadata": {}
        },
        {
          "output_type": "stream",
          "name": "stdout",
          "text": [
            "Actual Mask (slice 4)\n"
          ]
        },
        {
          "output_type": "display_data",
          "data": {
            "text/plain": [
              "<PIL.Image.Image image mode=L size=404x157>"
            ],
            "image/png": "[encoded data removed]"
          },
          "metadata": {}
        },
        {
          "output_type": "stream",
          "name": "stdout",
          "text": [
            "Predicted Mask (slice 11)\n"
          ]
        },
        {
          "output_type": "display_data",
          "data": {
            "text/plain": [
              "<PIL.Image.Image image mode=L size=404x157>"
            ],
            "image/png": "[encoded data removed]"
          },
          "metadata": {}
        },
        {
          "output_type": "stream",
          "name": "stdout",
          "text": [
            "Actual Mask (slice 11)\n"
          ]
        },
        {
          "output_type": "display_data",
          "data": {
            "text/plain": [
              "<PIL.Image.Image image mode=L size=404x157>"
            ],
            "image/png": "[encoded data removed]"
          },
          "metadata": {}
        },
        {
          "output_type": "stream",
          "name": "stdout",
          "text": [
            "Final F1 Score: 0.4507895209043603\n"
          ]
        }
      ]
    },
    {
      "cell_type": "markdown",
      "source": [
        "# Imports"
      ],
      "metadata": {
        "id": "gFIpaNonFKWq"
      }
    },
    {
      "cell_type": "code",
      "execution_count": null,
      "metadata": {
        "id": "ZT3Ew3cxmt_G"
      },
      "outputs": [],
      "source": [
        "# Imports\n",
        "import imageio\n",
        "import statistics\n",
        "from matplotlib import pyplot as plt # for displaying images\n",
        "import cv2 #opencv for image processing\n",
        "import imageio # another libaray for loading tiff images\n",
        "import numpy as np # numpy import\n",
        "from google.colab.patches import cv2_imshow\n",
        "from sklearn.metrics import f1_score\n",
        "import os\n",
        "\n",
        "\n",
        "import tensorflow as tf\n",
        "from tensorflow.keras import Input, Model\n",
        "from tensorflow.keras.layers import Conv2D, MaxPooling2D, Conv2DTranspose, concatenate, BatchNormalization, Activation, Dropout\n",
        "from sklearn.model_selection import train_test_split\n",
        "from tensorflow.keras.preprocessing.image import ImageDataGenerator\n",
        "from tensorflow.keras.utils import Sequence\n",
        "from tensorflow.keras.optimizers import Adam\n",
        "\n",
        "from albumentations import (\n",
        "    Compose, Rotate, HorizontalFlip, VerticalFlip,\n",
        "    RandomBrightnessContrast, Affine\n",
        ")\n",
        "\n",
        "\n",
        "import pywt\n",
        "\n",
        "from PIL import ImageOps\n",
        "\n",
        "from skimage import io, exposure"
      ]
    },
    {
      "cell_type": "markdown",
      "source": [
        "# Model\n",
        "This is our model using classical image processing techniques (CIPT)\n",
        "\n",
        "1. **CIPT()**\n",
        "\n",
        "give a path to a .tiff file containing images and masks compute the predicted masks. Returns a stack of the predicted masks along with the true masks"
      ],
      "metadata": {
        "id": "8PfLXRjTFQBM"
      }
    },
    {
      "cell_type": "code",
      "source": [
        "def CIPT(imagesPath, idxNum=None, idxNum2=None):\n",
        "  \"\"\"\n",
        "  Perform our Classical Image Processing Technique (CIPT) model on a set of images.\n",
        "  Requires the input file to be of the form \"image_and_mask\"\n",
        "\n",
        "  Args:\n",
        "    imagesPath (str): Path to input images and masks i.e \"2_image_and_mask.tiff\"\n",
        "    idxNum (int): Index number to show predicted and true mask. Defaults to None\n",
        "\n",
        "  Returns:\n",
        "    predMasks (npArray): 3D array of all the predicted masks in order.\n",
        "    trueMasks (npArray): 3D array of all the true masks in order.\n",
        "  \"\"\"\n",
        "\n",
        "  # Parameters for morphological operations.\n",
        "  kernelSize = (15,15)\n",
        "  iterations = 2\n",
        "\n",
        "  # Load images and split masks/images\n",
        "  imgs = imageio.volread(imagesPath)\n",
        "  images, trueMasks = splitImageAndMask(imgs)\n",
        "\n",
        "  predMasks = []\n",
        "\n",
        "  # Loop through all of the images do our model.\n",
        "  for i in range(len(images)):\n",
        "\n",
        "    filteredImage = homomorphic(images[i])\n",
        "\n",
        "    # Segment out dendrite spin (white/black thresholding)\n",
        "    threshImg = otsuMethod(filteredImage)\n",
        "\n",
        "    # Find in focus area with sobel filter\n",
        "    img = sobelFilter(filteredImage, threshold=150)\n",
        "\n",
        "    # Close sobel filter result\n",
        "    closedImg = performClosing(img, kernelSize=kernelSize, iterations=iterations)\n",
        "\n",
        "    # Combine the spine mask with the closed sobel mask\n",
        "    combinedMask = cv2.bitwise_and(closedImg, threshImg)\n",
        "    if idxNum and i == idxNum:\n",
        "      print(\"Predicted Mask (slice 4)\")\n",
        "      cv2_imshow(combinedMask)\n",
        "      print(\"Actual Mask (slice 4)\")\n",
        "      cv2_imshow(trueMasks[i])\n",
        "\n",
        "    if idxNum2 and i == idxNum2:\n",
        "      print(\"Predicted Mask (slice 11)\")\n",
        "      cv2_imshow(combinedMask)\n",
        "      print(\"Actual Mask (slice 11)\")\n",
        "      cv2_imshow(trueMasks[i])\n",
        "\n",
        "\n",
        "    predMasks.append(combinedMask)\n",
        "\n",
        "  return np.array(predMasks), np.array(trueMasks)"
      ],
      "metadata": {
        "id": "dNfPs-rmCzyM"
      },
      "execution_count": null,
      "outputs": []
    },
    {
      "cell_type": "markdown",
      "source": [
        "# Data Handling\n",
        "These cells contain code just for handling the input data. **All of our project requires using the \"image_and_mask\" type files**\n",
        "\n",
        "1. **splitImageAndMask()**\n",
        "Splits an input image into the image and true mask.\n",
        "\n",
        "\n",
        "\n",
        "\n",
        "\n",
        "\n",
        "\n",
        "\n",
        "\n",
        "\n",
        "\n",
        "\n",
        "\n",
        "\n",
        "\n",
        "\n"
      ],
      "metadata": {
        "id": "yzhcXm4hzr-k"
      }
    },
    {
      "cell_type": "code",
      "source": [
        "def splitImageAndMask(images):\n",
        "  \"\"\"\n",
        "  This function splits up the images and masks and returns two arrays, one for the images and one for the masks. For use with the \"x_image_and_mask.tiff\" files.\n",
        "\n",
        "  Parameters:\n",
        "    images (npArray): 3D np array containing all of the combined images and masks.\n",
        "\n",
        "  Returns:\n",
        "    imgs (list[npArray]): List containing just the input images.\n",
        "    masks (list[npArray]): List containing just the true masks\n",
        "  \"\"\"\n",
        "  num_images, height, width = images.shape\n",
        "  # Create arrays to store the split images\n",
        "  imgs = np.empty((num_images, height-1, width//2), dtype=images.dtype)\n",
        "  masks = np.empty((num_images, height-1, width//2), dtype=images.dtype)\n",
        "\n",
        "  # Loop through and split the images and masks\n",
        "  for i in range(num_images):\n",
        "    img = images[i]\n",
        "    data = img[:(height-1),:(width//2)]\n",
        "    mask = img[:(height-1), (width//2):]\n",
        "\n",
        "    imgs[i] = data\n",
        "    masks[i] = mask\n",
        "\n",
        "  return imgs, masks\n"
      ],
      "metadata": {
        "id": "YjO_HPEMILo0"
      },
      "execution_count": null,
      "outputs": []
    },
    {
      "cell_type": "markdown",
      "source": [
        "# Preprocessing\n",
        "Cells here contain any preprocessing functions.\n",
        "\n",
        "1. **homomorphic()**\n",
        "\n",
        "Applies a homomorphic filter to an input image.\n",
        "\n",
        "2. **otsuMethod()**\n",
        "\n",
        "Applies thresholding using otsu's method to an image."
      ],
      "metadata": {
        "id": "7S1Rg0500aDm"
      }
    },
    {
      "cell_type": "code",
      "source": [
        "#this function was generated with the help of chatgpt\n",
        "#Prompt: write python code that does homomorphic filtering of a grayscale image\n",
        "def homomorphic(image, cutoff_frequency=60, boost=1, gamma_low=0.5, gamma_high=1.5):\n",
        "  \"\"\"\n",
        "  enhances mid to high frequencies while also preserving low frequencies\n",
        "\n",
        "  parameters: image, cutoff frequency, boost, gamma_low, gamma_high\n",
        "  returns: uint8 filtered image\n",
        "  \"\"\"\n",
        "\n",
        "  image = np.float32(image)\n",
        "  log_image = np.log1p(image)\n",
        "  fft_image = np.fft.fft2(log_image)\n",
        "  fft_shifted = np.fft.fftshift(fft_image)\n",
        "  magnitude_spectrum = np.abs(fft_shifted)\n",
        "\n",
        "  rows, cols = image.shape\n",
        "  crow, ccol = rows // 2, cols // 2\n",
        "  gaussian_filter = np.zeros((rows, cols), dtype=np.float32)\n",
        "  for i in range(rows):\n",
        "    for j in range(cols):\n",
        "      gaussian_filter[i, j] = np.exp(-((i - crow) ** 2 + (j - ccol) ** 2) / (2 * cutoff_frequency ** 2))\n",
        "\n",
        "  filtered_spectrum = fft_shifted * gaussian_filter\n",
        "  filtered_spectrum_shifted = np.fft.ifftshift(filtered_spectrum)\n",
        "  filtered_image = np.fft.ifft2(filtered_spectrum_shifted)\n",
        "  filtered_image_magnitude = np.abs(filtered_image)\n",
        "  filtered_image_magnitude = np.power(filtered_image_magnitude, boost)\n",
        "\n",
        "  filtered_image_magnitude = (filtered_image_magnitude - np.min(filtered_image_magnitude)) / (\n",
        "            np.max(filtered_image_magnitude) - np.min(filtered_image_magnitude))\n",
        "  filtered_image_magnitude = filtered_image_magnitude * 255\n",
        "\n",
        "  filtered_image_magnitude = np.power(filtered_image_magnitude, gamma_low)\n",
        "  filtered_image_magnitude = np.power(filtered_image_magnitude, gamma_high)\n",
        "  filtered_image_uint8 = np.uint8(filtered_image_magnitude)\n",
        "\n",
        "  return filtered_image_uint8"
      ],
      "metadata": {
        "id": "ms6Jl1VA0xW0"
      },
      "execution_count": null,
      "outputs": []
    },
    {
      "cell_type": "code",
      "source": [
        "def otsuMethod(img):\n",
        "  # Perform Otsu's method\n",
        "  img = cv2.threshold(img, 0, 255, cv2.THRESH_BINARY + cv2.THRESH_OTSU)[1]\n",
        "  # Invert it\n",
        "  img = np.invert(img)\n",
        "  return img"
      ],
      "metadata": {
        "id": "2HU_hkFuqY6C"
      },
      "execution_count": null,
      "outputs": []
    },
    {
      "cell_type": "markdown",
      "source": [
        "# In-Focus Detection\n",
        "Methods to determine infocus areas of an image.\n",
        "\n",
        "1. **sobelFilter()**\n",
        "\n",
        "Applies a 3x3 sobel filter in the x and y direction. thresholds the result to get a mask of (hopefully) in focus areas of the image."
      ],
      "metadata": {
        "id": "GDM-nFyi0qTN"
      }
    },
    {
      "cell_type": "code",
      "source": [
        "def sobelFilter(image, threshold=100):\n",
        "  \"\"\"\n",
        "  Given an image applies a sovel filter in the x and y directions using a 3x3 kernel.\n",
        "  thresholds the result to get a binary mask.\n",
        "\n",
        "  Args:\n",
        "    image (npArray): Image for filter to be applied to.\n",
        "    threshold (int): threshold value. Defaults to 100.\n",
        "\n",
        "  Returns:\n",
        "    focusedMask (npArray): Binary mask image after applying sobel filter.\n",
        "  \"\"\"\n",
        "\n",
        "  gradx = cv2.Sobel(image, cv2.CV_64F, 1, 0, ksize=3)\n",
        "  grady = cv2.Sobel(image, cv2.CV_64F, 0, 1, ksize=3)\n",
        "\n",
        "  gradMag = np.sqrt(gradx**2 + grady**2)\n",
        "  gradMagNorm = cv2.normalize(gradMag, None, 0, 255, cv2.NORM_MINMAX, cv2.CV_8U)\n",
        "  focusedMask = cv2.threshold(gradMagNorm, threshold, 255, cv2.THRESH_BINARY)[1]\n",
        "\n",
        "  return focusedMask"
      ],
      "metadata": {
        "id": "x1pRaGaTFbD6"
      },
      "execution_count": null,
      "outputs": []
    },
    {
      "cell_type": "markdown",
      "source": [
        "# Mask \"Cleanup\"\n",
        "Once the in focus areas have been detected some small adjustments are made to \"clean up\" the final mask.\n",
        "\n",
        "1. **performClosing()**\n",
        "\n",
        "Does morphological closing on a binary image."
      ],
      "metadata": {
        "id": "GGC6-2ioobw9"
      }
    },
    {
      "cell_type": "code",
      "source": [
        "def performClosing(img, kernelSize=(10,10), iterations=2):\n",
        "  \"\"\"\n",
        "  Performs morphological closing of a given image\n",
        "\n",
        "  Parameters:\n",
        "    img (npArray): Input image to be closed.\n",
        "    kernelSize ((int,int)): Kernel size for closing operation. Larger kernel = more aggressive closing.\n",
        "    iterations (int): Number of iterations for closing. More iterations = more aggressive closing.\n",
        "\n",
        "  Returns:\n",
        "    closedImg (npArray): Final image that has been closed.\n",
        "  \"\"\"\n",
        "  # Covert image to binary based off thresholding\n",
        "  binImg = cv2.threshold(img, 0, 255, cv2.THRESH_BINARY+cv2.THRESH_OTSU)[1]\n",
        "  # Make kernel\n",
        "  kernel = np.ones(kernelSize, np.uint8)\n",
        "  # Perform closing\n",
        "  closedImg = cv2.morphologyEx(binImg, cv2.MORPH_CLOSE, kernel, iterations=iterations)\n",
        "  return closedImg"
      ],
      "metadata": {
        "id": "5Cf5rAIc2OOU"
      },
      "execution_count": null,
      "outputs": []
    },
    {
      "cell_type": "markdown",
      "source": [
        "# Evaluation\n",
        "This section contains functions for our evaluation metrics.\n",
        "Currently only have F1 score. Need to also get the accuracy."
      ],
      "metadata": {
        "id": "J89qcZy52Hmq"
      }
    },
    {
      "cell_type": "code",
      "source": [
        "def computeF1(true_mask, pred_mask):\n",
        "  \"\"\"\n",
        "  Computes the F1 score given two masks. Ranges between 0-1 with 0 sucking and 1 being perfect.\n",
        "\n",
        "  Parameters:\n",
        "    true_mask (npArray): True/actual mask that was given to us.\n",
        "    pred_mask (npArray): Predicted mask.\n",
        "\n",
        "  Returns:\n",
        "    f1Score (float): F1 score between  the true and predicted masks.\n",
        "  \"\"\"\n",
        "  if true_mask.shape != pred_mask.shape:\n",
        "    raise ValueError(\"Error computing F1Score: true and predicted masks are different shapes.\")\n",
        "\n",
        "\n",
        "  # convert both masks into binary\n",
        "  true_mask = np.where(true_mask == 255, 1, 0).flatten()\n",
        "  pred_mask = np.where(pred_mask == 255, 1, 0).flatten()\n",
        "  # Compute f1 score\n",
        "  f1Score = f1_score(true_mask, pred_mask)\n",
        "\n",
        "  return f1Score"
      ],
      "metadata": {
        "id": "HkriiksJ42aZ"
      },
      "execution_count": null,
      "outputs": []
    },
    {
      "cell_type": "markdown",
      "source": [
        "# Deep Learning Approach\n",
        "This was a quick experiment. Most of the code is AI generated with some tweaks; as a result we dont really understand it well but a lot of work can be done here:\n",
        "\n",
        "1. Use U-Net Architecture as its really good for limited data sets in medical image processing\n",
        "2. Do some data augmentation to artificially increase the dataset. (zooms, rotations. contrast adjustment ect.)"
      ],
      "metadata": {
        "id": "ybYvbs-BzEIe"
      }
    },
    {
      "cell_type": "code",
      "source": [
        "def splitAndFlip(path='/content/7_image_and_mask.tiff'):\n",
        "\n",
        "  imgs = imageio.volread(path)\n",
        "  idx, height, width = imgs.shape[0], imgs.shape[1], imgs.shape[2]\n",
        "\n",
        "  images, masks = [], []\n",
        "  for i in range(idx):\n",
        "    data = imgs[i, :(height-1), :(width//2)]\n",
        "    mask = imgs[i, :(height-1), (width//2):]\n",
        "\n",
        "    data = cv2.rotate(data, cv2.ROTATE_90_CLOCKWISE)\n",
        "    mask = cv2.rotate(mask, cv2.ROTATE_90_CLOCKWISE)\n",
        "    # Pad Images so it can be fed into model\n",
        "    data = padImages(data, 'image')\n",
        "    # mask = padImages(mask, 'mask')\n",
        "    # data = cv2.resize(data, (256, 512))\n",
        "    # mask = cv2.resize(mask, (256, 512))\n",
        "    # normalize resized image\n",
        "    data = data / 255.0\n",
        "    # Expand dimensions to fit CNN\n",
        "    data = np.expand_dims(data, axis=[0,-1])\n",
        "\n",
        "\n",
        "\n",
        "    images.append(data)\n",
        "    masks.append(mask)\n",
        "\n",
        "  return images, masks\n"
      ],
      "metadata": {
        "id": "5Q_AdOUy51tM"
      },
      "execution_count": null,
      "outputs": []
    },
    {
      "cell_type": "code",
      "source": [
        "\n",
        "# Load the image\n",
        "\n",
        "testImages, testMasks = splitAndFlip()\n",
        "\n",
        "\n",
        "# print(testImages[0].shape)\n",
        "\n",
        "# height, width = testImages[0].shape[1], testImages[0].shape[2]\n",
        "\n",
        "# print(testMasks[0].shape)\n",
        "\n",
        "# cv2_imshow(testMasks[9])\n",
        "\n",
        "\n",
        "threshold = 0.468\n",
        "predMasks = []\n",
        "\n",
        "for i in range(len(testImages)):\n",
        "  predMask = model.predict(testImages[i])\n",
        "  predMask = np.squeeze(predMask, axis=(0,-1))\n",
        "  pred_Mask = unPad(predMask)\n",
        "  predMask = (pred_Mask > threshold).astype(np.uint8)\n",
        "\n",
        "  predicted_mask_binary = performClosing(predMask, kernelSize = (6,6))\n",
        "  # What the F1 score method requires\n",
        "  # predicted_mask_binary *= 255\n",
        "  if i == 4:\n",
        "    plt.imshow(pred_Mask, cmap='gray')\n",
        "    plt.axis('off')\n",
        "    plt.title(\"Output of CNN (slice 4)\")\n",
        "    plt.show()\n",
        "    print('Predicted Mask CNN (slice 4)')\n",
        "    cv2_imshow(predicted_mask_binary)\n",
        "    print('True Mask CNN (slice 4)')\n",
        "    cv2_imshow(testMasks[i])\n",
        "  if i == 11:\n",
        "    plt.imshow(pred_Mask, cmap='gray')\n",
        "    plt.axis('off')\n",
        "    plt.title(\"Output of CNN (slice 11)\")\n",
        "    plt.show()\n",
        "    print('Predicted Mask CNN (slice 11)')\n",
        "    cv2_imshow(predicted_mask_binary)\n",
        "    print('True Mask CNN (slice 11)')\n",
        "    cv2_imshow(testMasks[i])\n",
        "  predMasks.append(predicted_mask_binary)\n",
        "\n",
        "print(np.array(predMasks).shape)\n",
        "print(np.array(testMasks).shape)\n",
        "\n",
        "f1score = computeF1(np.array(predMasks), np.array(testMasks))\n",
        "print(f\"Final F1 Score: {f1score}\")\n"
      ],
      "metadata": {
        "colab": {
          "base_uri": "https://localhost:8080/",
          "height": 1000
        },
        "id": "lZ2tRvwB9F0Y",
        "outputId": "a0cdb87e-464e-47cb-9b02-647888867072"
      },
      "execution_count": null,
      "outputs": [
        {
          "output_type": "stream",
          "name": "stdout",
          "text": [
            "1/1 [==============================] - 0s 228ms/step\n",
            "1/1 [==============================] - 0s 190ms/step\n",
            "1/1 [==============================] - 0s 332ms/step\n",
            "1/1 [==============================] - 0s 323ms/step\n",
            "1/1 [==============================] - 0s 340ms/step\n"
          ]
        },
        {
          "output_type": "display_data",
          "data": {
            "text/plain": [
              "<Figure size 640x480 with 1 Axes>"
            ],
            "image/png": "[encoded data removed]"
          },
          "metadata": {}
        },
        {
          "output_type": "stream",
          "name": "stdout",
          "text": [
            "Predicted Mask CNN (slice 4)\n"
          ]
        },
        {
          "output_type": "display_data",
          "data": {
            "text/plain": [
              "<PIL.Image.Image image mode=L size=157x404>"
            ],
            "image/png": "[encoded data removed]"
          },
          "metadata": {}
        },
        {
          "output_type": "stream",
          "name": "stdout",
          "text": [
            "True Mask CNN (slice 4)\n"
          ]
        },
        {
          "output_type": "display_data",
          "data": {
            "text/plain": [
              "<PIL.Image.Image image mode=L size=157x404>"
            ],
            "image/png": "[encoded data removed]"
          },
          "metadata": {}
        },
        {
          "output_type": "stream",
          "name": "stdout",
          "text": [
            "1/1 [==============================] - 0s 362ms/step\n",
            "1/1 [==============================] - 0s 260ms/step\n",
            "1/1 [==============================] - 0s 322ms/step\n",
            "1/1 [==============================] - 0s 356ms/step\n",
            "1/1 [==============================] - 0s 180ms/step\n",
            "1/1 [==============================] - 0s 199ms/step\n",
            "1/1 [==============================] - 0s 226ms/step\n"
          ]
        },
        {
          "output_type": "display_data",
          "data": {
            "text/plain": [
              "<Figure size 640x480 with 1 Axes>"
            ],
            "image/png": "[encoded data removed]"
          },
          "metadata": {}
        },
        {
          "output_type": "stream",
          "name": "stdout",
          "text": [
            "Predicted Mask CNN (slice 11)\n"
          ]
        },
        {
          "output_type": "display_data",
          "data": {
            "text/plain": [
              "<PIL.Image.Image image mode=L size=157x404>"
            ],
            "image/png": "[encoded data removed]"
          },
          "metadata": {}
        },
        {
          "output_type": "stream",
          "name": "stdout",
          "text": [
            "True Mask CNN (slice 11)\n"
          ]
        },
        {
          "output_type": "display_data",
          "data": {
            "text/plain": [
              "<PIL.Image.Image image mode=L size=157x404>"
            ],
            "image/png": "[encoded data removed]"
          },
          "metadata": {}
        },
        {
          "output_type": "stream",
          "name": "stdout",
          "text": [
            "1/1 [==============================] - 0s 201ms/step\n",
            "1/1 [==============================] - 0s 214ms/step\n",
            "1/1 [==============================] - 0s 207ms/step\n",
            "1/1 [==============================] - 0s 195ms/step\n",
            "1/1 [==============================] - 0s 130ms/step\n",
            "1/1 [==============================] - 0s 123ms/step\n",
            "1/1 [==============================] - 0s 121ms/step\n",
            "1/1 [==============================] - 0s 123ms/step\n",
            "1/1 [==============================] - 0s 118ms/step\n",
            "1/1 [==============================] - 0s 121ms/step\n",
            "1/1 [==============================] - 0s 132ms/step\n",
            "1/1 [==============================] - 0s 122ms/step\n",
            "1/1 [==============================] - 0s 174ms/step\n",
            "(25, 404, 157)\n",
            "(25, 404, 157)\n",
            "Final F1 Score: 0.39591413910236334\n"
          ]
        }
      ]
    },
    {
      "cell_type": "markdown",
      "source": [
        "# Model Training"
      ],
      "metadata": {
        "id": "8kT_AM9SXDp9"
      }
    },
    {
      "cell_type": "code",
      "source": [
        "#\n",
        "\n",
        "augmentation = Compose([\n",
        "        Rotate(limit=40, p=0.5),\n",
        "        HorizontalFlip(p=0.5),\n",
        "        VerticalFlip(p=0.5),\n",
        "        Affine(scale={'x': (0.9, 1.1), 'y': (0.9, 1.1)}, translate_percent=None, rotate=0, shear=10, p=0.3)\n",
        "    ])\n",
        "\n",
        "model = unet()\n",
        "\n",
        "train_gen = DataGenerator('/content/images', '/content/masks', batch_size=39, augmentations=augmentation)\n",
        "\n",
        "\n",
        "history = model.fit(\n",
        "    train_gen,\n",
        "    epochs=12,\n",
        "    steps_per_epoch=len(train_gen),\n",
        ")\n",
        "\n",
        "\n",
        "plt.figure(figsize=(14, 5))\n",
        "\n",
        "plt.subplot(1, 2, 1)\n",
        "plt.plot(history.history['accuracy'])\n",
        "plt.plot(history.history.get('val_accuracy', []))  # Only plot if validation accuracy exists\n",
        "plt.title('Model Accuracy')\n",
        "plt.ylabel('Accuracy')\n",
        "plt.xlabel('Epoch')\n",
        "plt.legend(['Train', 'Validation'], loc='upper left')\n",
        "\n",
        "# Plot training & validation loss values\n",
        "plt.subplot(1, 2, 2)\n",
        "plt.plot(history.history['loss'])\n",
        "plt.plot(history.history.get('val_loss', []))  # Only plot if validation loss exists\n",
        "plt.title('Model Loss')\n",
        "plt.ylabel('Loss')\n",
        "plt.xlabel('Epoch')\n",
        "plt.legend(['Train', 'Validation'], loc='upper right')\n",
        "\n"
      ],
      "metadata": {
        "colab": {
          "base_uri": "https://localhost:8080/"
        },
        "id": "47dxB4N6nZcK",
        "outputId": "c629df4d-8bd8-4380-87f1-06cdf05e30cf"
      },
      "execution_count": null,
      "outputs": [
        {
          "output_type": "stream",
          "name": "stdout",
          "text": [
            "Epoch 1/12\n"
          ]
        }
      ]
    },
    {
      "cell_type": "code",
      "source": [
        "# Save a good model!\n",
        "model_name = ''\n",
        "model.save(f'/content/{model_name}')"
      ],
      "metadata": {
        "id": "9G-Nxc-Z1mQR",
        "colab": {
          "base_uri": "https://localhost:8080/",
          "height": 141
        },
        "outputId": "dacf74d5-a6db-4dcf-948f-fecbadacf046"
      },
      "execution_count": null,
      "outputs": [
        {
          "output_type": "error",
          "ename": "NameError",
          "evalue": "name 'model' is not defined",
          "traceback": [
            "\u001b[0;31m---------------------------------------------------------------------------\u001b[0m",
            "\u001b[0;31mNameError\u001b[0m                                 Traceback (most recent call last)",
            "\u001b[0;32m<ipython-input-29-4e46f4673908>\u001b[0m in \u001b[0;36m<cell line: 1>\u001b[0;34m()\u001b[0m\n\u001b[0;32m----> 1\u001b[0;31m \u001b[0mmodel\u001b[0m\u001b[0;34m.\u001b[0m\u001b[0msave\u001b[0m\u001b[0;34m(\u001b[0m\u001b[0;34m'/content/NOTBAD'\u001b[0m\u001b[0;34m)\u001b[0m\u001b[0;34m\u001b[0m\u001b[0;34m\u001b[0m\u001b[0m\n\u001b[0m",
            "\u001b[0;31mNameError\u001b[0m: name 'model' is not defined"
          ]
        }
      ]
    },
    {
      "cell_type": "code",
      "source": [
        "def loadFiles(filePaths):\n",
        "  \"\"\"\n",
        "  Load and format training images for model.\n",
        "  \"\"\"\n",
        "  if not os.path.exists('/content/images'):\n",
        "    os.makedirs('/content/images')\n",
        "\n",
        "  if not os.path.exists('/content/masks'):\n",
        "    os.makedirs('/content/masks')\n",
        "\n",
        "  fileNum = 1\n",
        "\n",
        "\n",
        "  for path in filePaths:\n",
        "    imgs = imageio.volread(path)\n",
        "    idx, height, width = imgs.shape[0], imgs.shape[1], imgs.shape[2]\n",
        "    imageNum = 0\n",
        "\n",
        "    for i in range(idx):\n",
        "      imageNum += 1\n",
        "      # Split image and mask\n",
        "      data = imgs[i, :(height-1), :(width//2)]\n",
        "      mask = imgs[i, :(height-1), (width//2):]\n",
        "\n",
        "      data = padImages(data, \"image\")\n",
        "      mask = padImages(mask, 'mask')\n",
        "\n",
        "\n",
        "      ### ADD STUFF HERE FOR HANDLING DIFFERENT IMAGE SHAPES ###\n",
        "\n",
        "      imagePath = os.path.join('/content/images', f'image_{fileNum:01d}_{imageNum:02d}.png')\n",
        "      maskPath = os.path.join('/content/masks', f'mask_{fileNum:01d}_{imageNum:02d}.png')\n",
        "      # Save to specified directory\n",
        "      cv2.imwrite(imagePath, data)\n",
        "      cv2.imwrite(maskPath, mask)\n",
        "\n",
        "    fileNum += 1\n",
        "\n",
        "\n",
        "\n",
        "!rm -rf images/\n",
        "!rm -rf masks/\n",
        "filePaths = ['3_image_and_mask.tiff', '6_image_and_mask.tiff']\n",
        "loadFiles(filePaths)"
      ],
      "metadata": {
        "id": "0JvdU6pxfJ7D",
        "colab": {
          "base_uri": "https://localhost:8080/",
          "height": 335
        },
        "outputId": "a930b586-ac79-41b1-fc2a-d9c3c6ac1afa"
      },
      "execution_count": null,
      "outputs": [
        {
          "output_type": "error",
          "ename": "FileNotFoundError",
          "evalue": "No such file: '/content/3_image_and_mask.tiff'",
          "traceback": [
            "\u001b[0;31m---------------------------------------------------------------------------\u001b[0m",
            "\u001b[0;31mFileNotFoundError\u001b[0m                         Traceback (most recent call last)",
            "\u001b[0;32m<ipython-input-9-bb517aa4d12e>\u001b[0m in \u001b[0;36m<cell line: 44>\u001b[0;34m()\u001b[0m\n\u001b[1;32m     42\u001b[0m \u001b[0mget_ipython\u001b[0m\u001b[0;34m(\u001b[0m\u001b[0;34m)\u001b[0m\u001b[0;34m.\u001b[0m\u001b[0msystem\u001b[0m\u001b[0;34m(\u001b[0m\u001b[0;34m'rm -rf masks/'\u001b[0m\u001b[0;34m)\u001b[0m\u001b[0;34m\u001b[0m\u001b[0;34m\u001b[0m\u001b[0m\n\u001b[1;32m     43\u001b[0m \u001b[0mfilePaths\u001b[0m \u001b[0;34m=\u001b[0m \u001b[0;34m[\u001b[0m\u001b[0;34m'3_image_and_mask.tiff'\u001b[0m\u001b[0;34m,\u001b[0m \u001b[0;34m'6_image_and_mask.tiff'\u001b[0m\u001b[0;34m]\u001b[0m\u001b[0;34m\u001b[0m\u001b[0;34m\u001b[0m\u001b[0m\n\u001b[0;32m---> 44\u001b[0;31m \u001b[0mloadFiles\u001b[0m\u001b[0;34m(\u001b[0m\u001b[0mfilePaths\u001b[0m\u001b[0;34m)\u001b[0m\u001b[0;34m\u001b[0m\u001b[0;34m\u001b[0m\u001b[0m\n\u001b[0m",
            "\u001b[0;32m<ipython-input-9-bb517aa4d12e>\u001b[0m in \u001b[0;36mloadFiles\u001b[0;34m(filePaths)\u001b[0m\n\u001b[1;32m     13\u001b[0m \u001b[0;34m\u001b[0m\u001b[0m\n\u001b[1;32m     14\u001b[0m   \u001b[0;32mfor\u001b[0m \u001b[0mpath\u001b[0m \u001b[0;32min\u001b[0m \u001b[0mfilePaths\u001b[0m\u001b[0;34m:\u001b[0m\u001b[0;34m\u001b[0m\u001b[0;34m\u001b[0m\u001b[0m\n\u001b[0;32m---> 15\u001b[0;31m     \u001b[0mimgs\u001b[0m \u001b[0;34m=\u001b[0m \u001b[0mimageio\u001b[0m\u001b[0;34m.\u001b[0m\u001b[0mvolread\u001b[0m\u001b[0;34m(\u001b[0m\u001b[0mpath\u001b[0m\u001b[0;34m)\u001b[0m\u001b[0;34m\u001b[0m\u001b[0;34m\u001b[0m\u001b[0m\n\u001b[0m\u001b[1;32m     16\u001b[0m     \u001b[0midx\u001b[0m\u001b[0;34m,\u001b[0m \u001b[0mheight\u001b[0m\u001b[0;34m,\u001b[0m \u001b[0mwidth\u001b[0m \u001b[0;34m=\u001b[0m \u001b[0mimgs\u001b[0m\u001b[0;34m.\u001b[0m\u001b[0mshape\u001b[0m\u001b[0;34m[\u001b[0m\u001b[0;36m0\u001b[0m\u001b[0;34m]\u001b[0m\u001b[0;34m,\u001b[0m \u001b[0mimgs\u001b[0m\u001b[0;34m.\u001b[0m\u001b[0mshape\u001b[0m\u001b[0;34m[\u001b[0m\u001b[0;36m1\u001b[0m\u001b[0;34m]\u001b[0m\u001b[0;34m,\u001b[0m \u001b[0mimgs\u001b[0m\u001b[0;34m.\u001b[0m\u001b[0mshape\u001b[0m\u001b[0;34m[\u001b[0m\u001b[0;36m2\u001b[0m\u001b[0;34m]\u001b[0m\u001b[0;34m\u001b[0m\u001b[0;34m\u001b[0m\u001b[0m\n\u001b[1;32m     17\u001b[0m     \u001b[0mimageNum\u001b[0m \u001b[0;34m=\u001b[0m \u001b[0;36m0\u001b[0m\u001b[0;34m\u001b[0m\u001b[0;34m\u001b[0m\u001b[0m\n",
            "\u001b[0;32m/usr/local/lib/python3.10/dist-packages/imageio/v2.py\u001b[0m in \u001b[0;36mvolread\u001b[0;34m(uri, format, **kwargs)\u001b[0m\n\u001b[1;32m    520\u001b[0m     \u001b[0mimopen_args\u001b[0m \u001b[0;34m=\u001b[0m \u001b[0mdecypher_format_arg\u001b[0m\u001b[0;34m(\u001b[0m\u001b[0mformat\u001b[0m\u001b[0;34m)\u001b[0m\u001b[0;34m\u001b[0m\u001b[0;34m\u001b[0m\u001b[0m\n\u001b[1;32m    521\u001b[0m     \u001b[0mimopen_args\u001b[0m\u001b[0;34m[\u001b[0m\u001b[0;34m\"legacy_mode\"\u001b[0m\u001b[0;34m]\u001b[0m \u001b[0;34m=\u001b[0m \u001b[0;32mTrue\u001b[0m\u001b[0;34m\u001b[0m\u001b[0;34m\u001b[0m\u001b[0m\n\u001b[0;32m--> 522\u001b[0;31m     \u001b[0;32mwith\u001b[0m \u001b[0mimopen\u001b[0m\u001b[0;34m(\u001b[0m\u001b[0muri\u001b[0m\u001b[0;34m,\u001b[0m \u001b[0;34m\"rv\"\u001b[0m\u001b[0;34m,\u001b[0m \u001b[0;34m**\u001b[0m\u001b[0mimopen_args\u001b[0m\u001b[0;34m)\u001b[0m \u001b[0;32mas\u001b[0m \u001b[0mfile\u001b[0m\u001b[0;34m:\u001b[0m\u001b[0;34m\u001b[0m\u001b[0;34m\u001b[0m\u001b[0m\n\u001b[0m\u001b[1;32m    523\u001b[0m         \u001b[0;32mreturn\u001b[0m \u001b[0mfile\u001b[0m\u001b[0;34m.\u001b[0m\u001b[0mread\u001b[0m\u001b[0;34m(\u001b[0m\u001b[0mindex\u001b[0m\u001b[0;34m=\u001b[0m\u001b[0;36m0\u001b[0m\u001b[0;34m,\u001b[0m \u001b[0;34m**\u001b[0m\u001b[0mkwargs\u001b[0m\u001b[0;34m)\u001b[0m\u001b[0;34m\u001b[0m\u001b[0;34m\u001b[0m\u001b[0m\n\u001b[1;32m    524\u001b[0m \u001b[0;34m\u001b[0m\u001b[0m\n",
            "\u001b[0;32m/usr/local/lib/python3.10/dist-packages/imageio/core/imopen.py\u001b[0m in \u001b[0;36mimopen\u001b[0;34m(uri, io_mode, plugin, extension, format_hint, legacy_mode, **kwargs)\u001b[0m\n\u001b[1;32m    111\u001b[0m         \u001b[0mrequest\u001b[0m\u001b[0;34m.\u001b[0m\u001b[0mformat_hint\u001b[0m \u001b[0;34m=\u001b[0m \u001b[0mformat_hint\u001b[0m\u001b[0;34m\u001b[0m\u001b[0;34m\u001b[0m\u001b[0m\n\u001b[1;32m    112\u001b[0m     \u001b[0;32melse\u001b[0m\u001b[0;34m:\u001b[0m\u001b[0;34m\u001b[0m\u001b[0;34m\u001b[0m\u001b[0m\n\u001b[0;32m--> 113\u001b[0;31m         \u001b[0mrequest\u001b[0m \u001b[0;34m=\u001b[0m \u001b[0mRequest\u001b[0m\u001b[0;34m(\u001b[0m\u001b[0muri\u001b[0m\u001b[0;34m,\u001b[0m \u001b[0mio_mode\u001b[0m\u001b[0;34m,\u001b[0m \u001b[0mformat_hint\u001b[0m\u001b[0;34m=\u001b[0m\u001b[0mformat_hint\u001b[0m\u001b[0;34m,\u001b[0m \u001b[0mextension\u001b[0m\u001b[0;34m=\u001b[0m\u001b[0mextension\u001b[0m\u001b[0;34m)\u001b[0m\u001b[0;34m\u001b[0m\u001b[0;34m\u001b[0m\u001b[0m\n\u001b[0m\u001b[1;32m    114\u001b[0m \u001b[0;34m\u001b[0m\u001b[0m\n\u001b[1;32m    115\u001b[0m     \u001b[0msource\u001b[0m \u001b[0;34m=\u001b[0m \u001b[0;34m\"<bytes>\"\u001b[0m \u001b[0;32mif\u001b[0m \u001b[0misinstance\u001b[0m\u001b[0;34m(\u001b[0m\u001b[0muri\u001b[0m\u001b[0;34m,\u001b[0m \u001b[0mbytes\u001b[0m\u001b[0;34m)\u001b[0m \u001b[0;32melse\u001b[0m \u001b[0muri\u001b[0m\u001b[0;34m\u001b[0m\u001b[0;34m\u001b[0m\u001b[0m\n",
            "\u001b[0;32m/usr/local/lib/python3.10/dist-packages/imageio/core/request.py\u001b[0m in \u001b[0;36m__init__\u001b[0;34m(self, uri, mode, extension, format_hint, **kwargs)\u001b[0m\n\u001b[1;32m    245\u001b[0m \u001b[0;34m\u001b[0m\u001b[0m\n\u001b[1;32m    246\u001b[0m         \u001b[0;31m# Parse what was given\u001b[0m\u001b[0;34m\u001b[0m\u001b[0;34m\u001b[0m\u001b[0m\n\u001b[0;32m--> 247\u001b[0;31m         \u001b[0mself\u001b[0m\u001b[0;34m.\u001b[0m\u001b[0m_parse_uri\u001b[0m\u001b[0;34m(\u001b[0m\u001b[0muri\u001b[0m\u001b[0;34m)\u001b[0m\u001b[0;34m\u001b[0m\u001b[0;34m\u001b[0m\u001b[0m\n\u001b[0m\u001b[1;32m    248\u001b[0m \u001b[0;34m\u001b[0m\u001b[0m\n\u001b[1;32m    249\u001b[0m         \u001b[0;31m# Set extension\u001b[0m\u001b[0;34m\u001b[0m\u001b[0;34m\u001b[0m\u001b[0m\n",
            "\u001b[0;32m/usr/local/lib/python3.10/dist-packages/imageio/core/request.py\u001b[0m in \u001b[0;36m_parse_uri\u001b[0;34m(self, uri)\u001b[0m\n\u001b[1;32m    405\u001b[0m                 \u001b[0;31m# Reading: check that the file exists (but is allowed a dir)\u001b[0m\u001b[0;34m\u001b[0m\u001b[0;34m\u001b[0m\u001b[0m\n\u001b[1;32m    406\u001b[0m                 \u001b[0;32mif\u001b[0m \u001b[0;32mnot\u001b[0m \u001b[0mos\u001b[0m\u001b[0;34m.\u001b[0m\u001b[0mpath\u001b[0m\u001b[0;34m.\u001b[0m\u001b[0mexists\u001b[0m\u001b[0;34m(\u001b[0m\u001b[0mfn\u001b[0m\u001b[0;34m)\u001b[0m\u001b[0;34m:\u001b[0m\u001b[0;34m\u001b[0m\u001b[0;34m\u001b[0m\u001b[0m\n\u001b[0;32m--> 407\u001b[0;31m                     \u001b[0;32mraise\u001b[0m \u001b[0mFileNotFoundError\u001b[0m\u001b[0;34m(\u001b[0m\u001b[0;34m\"No such file: '%s'\"\u001b[0m \u001b[0;34m%\u001b[0m \u001b[0mfn\u001b[0m\u001b[0;34m)\u001b[0m\u001b[0;34m\u001b[0m\u001b[0;34m\u001b[0m\u001b[0m\n\u001b[0m\u001b[1;32m    408\u001b[0m             \u001b[0;32melse\u001b[0m\u001b[0;34m:\u001b[0m\u001b[0;34m\u001b[0m\u001b[0;34m\u001b[0m\u001b[0m\n\u001b[1;32m    409\u001b[0m                 \u001b[0;31m# Writing: check that the directory to write to does exist\u001b[0m\u001b[0;34m\u001b[0m\u001b[0;34m\u001b[0m\u001b[0m\n",
            "\u001b[0;31mFileNotFoundError\u001b[0m: No such file: '/content/3_image_and_mask.tiff'"
          ]
        }
      ]
    },
    {
      "cell_type": "code",
      "source": [
        "!unzip -o /content/7e_16bs.zip\n",
        "model = tf.keras.models.load_model('content/7e_16bs')\n"
      ],
      "metadata": {
        "id": "1VIF5EIC8iBk",
        "colab": {
          "base_uri": "https://localhost:8080/"
        },
        "outputId": "75f8a822-b8af-4d4e-d01c-8a7edd024fcd"
      },
      "execution_count": null,
      "outputs": [
        {
          "output_type": "stream",
          "name": "stdout",
          "text": [
            "Archive:  /content/7e_16bs.zip\n",
            "   creating: content/7e_16bs/\n",
            "  inflating: content/7e_16bs/saved_model.pb  \n",
            "   creating: content/7e_16bs/variables/\n",
            "  inflating: content/7e_16bs/variables/variables.index  \n",
            "  inflating: content/7e_16bs/variables/variables.data-00000-of-00001  \n",
            " extracting: content/7e_16bs/fingerprint.pb  \n",
            "  inflating: content/7e_16bs/keras_metadata.pb  \n",
            "   creating: content/7e_16bs/assets/\n"
          ]
        }
      ]
    },
    {
      "cell_type": "code",
      "source": [
        "def unet(input_shape=(512, 256, 1)):\n",
        "    inputs = Input(input_shape)\n",
        "\n",
        "    # Downscaling path\n",
        "    c1 = Conv2D(16, (3, 3), padding='same')(inputs)\n",
        "    c1 = BatchNormalization()(c1)\n",
        "    c1 = Activation('relu')(c1)\n",
        "    p1 = MaxPooling2D((2, 2))(c1)\n",
        "\n",
        "    c2 = Conv2D(32, (3, 3), padding='same')(p1)\n",
        "    c2 = BatchNormalization()(c2)\n",
        "    c2 = Activation('relu')(c2)\n",
        "    p2 = MaxPooling2D((2, 2))(c2)\n",
        "\n",
        "    # Bottom of the U\n",
        "    c3 = Conv2D(64, (3, 3), padding='same')(p2)\n",
        "    c3 = BatchNormalization()(c3)\n",
        "    c3 = Activation('relu')(c3)\n",
        "\n",
        "    # Upscaling path\n",
        "    u1 = Conv2DTranspose(32, (2, 2), strides=(2, 2), padding='same')(c3)\n",
        "    u1 = concatenate([u1, c2])\n",
        "    c4 = Conv2D(32, (3, 3), padding='same')(u1)\n",
        "    c4 = BatchNormalization()(c4)\n",
        "    c4 = Activation('relu')(c4)\n",
        "\n",
        "    u2 = Conv2DTranspose(16, (2, 2), strides=(2, 2), padding='same')(c4)\n",
        "    u2 = concatenate([u2, c1], axis=3)\n",
        "    c5 = Conv2D(16, (3, 3), padding='same')(u2)\n",
        "    c5 = BatchNormalization()(c5)\n",
        "    c5 = Activation('relu')(c5)\n",
        "\n",
        "    # Output layer\n",
        "    outputs = Conv2D(1, (1, 1), activation='sigmoid')(c5)\n",
        "\n",
        "    model = Model(inputs=[inputs], outputs=[outputs])\n",
        "    model.compile(optimizer='adam', loss='binary_crossentropy', metrics=['accuracy'])\n",
        "\n",
        "    return model\n"
      ],
      "metadata": {
        "id": "STWP-Rr2P5y6"
      },
      "execution_count": null,
      "outputs": []
    },
    {
      "cell_type": "code",
      "source": [
        "# https://stanford.edu/~shervine/blog/keras-how-to-generate-data-on-the-fly\n",
        "\n",
        "class DataGenerator(Sequence):\n",
        "    def __init__(self, image_dir, mask_dir, batch_size, augmentations=None):\n",
        "        self.image_paths = sorted([os.path.join(image_dir, f) for f in os.listdir(image_dir)])\n",
        "        self.mask_paths = sorted([os.path.join(mask_dir, f) for f in os.listdir(mask_dir)])\n",
        "        self.batch_size = batch_size\n",
        "        self.augmentations = augmentations\n",
        "\n",
        "    def __len__(self):\n",
        "        return len(self.image_paths) // self.batch_size\n",
        "\n",
        "    def __getitem__(self, idx):\n",
        "        batch_img_paths = self.image_paths[idx * self.batch_size:(idx + 1) * self.batch_size]\n",
        "        batch_mask_paths = self.mask_paths[idx * self.batch_size:(idx + 1) * self.batch_size]\n",
        "\n",
        "        imgs = np.zeros((self.batch_size, 512, 256, 1), dtype=np.uint8)\n",
        "        masks = np.zeros((self.batch_size, 512, 256, 1), dtype=np.uint8)\n",
        "\n",
        "        for i, (img_path, mask_path) in enumerate(zip(batch_img_paths, batch_mask_paths)):\n",
        "            img = cv2.imread(img_path, cv2.IMREAD_GRAYSCALE)\n",
        "            mask = cv2.imread(mask_path, cv2.IMREAD_GRAYSCALE)\n",
        "\n",
        "            # img = padImages(image)\n",
        "            # mask = padImages(mask)\n",
        "\n",
        "            if self.augmentations:\n",
        "                augmented = self.augmentations(image=img, mask=mask)\n",
        "                img = augmented['image']\n",
        "                mask = augmented['mask']\n",
        "\n",
        "            imgs[i] = np.expand_dims(img, axis=-1) / 255.0\n",
        "            masks[i] = np.expand_dims(mask, axis=-1) / 255.0\n",
        "\n",
        "        return imgs, masks"
      ],
      "metadata": {
        "id": "uG1ttL8srx7u"
      },
      "execution_count": null,
      "outputs": []
    },
    {
      "cell_type": "code",
      "source": [
        "def padImages(image, imgType, outputHeight=512, outputWidth=256):\n",
        "    height, width = image.shape[:2]\n",
        "\n",
        "    padHeight = (outputHeight - height) // 2\n",
        "    padWidth = (outputWidth - width) // 2\n",
        "\n",
        "    botPad = outputHeight - height - padHeight\n",
        "    rightPad = outputWidth - width - padWidth\n",
        "\n",
        "    if padHeight < 0 or padWidth < 0 or botPad < 0 or rightPad < 0:\n",
        "        raise ValueError(\"IMAGE IS TOO BIG PADDING IS NEGATIVE STOPPPPPPP\")\n",
        "\n",
        "    # Need to pad images with the correct background color\n",
        "    # i.e white for input images and black for masks\n",
        "    if imgType == 'image':\n",
        "      padValue = 255\n",
        "    elif imgType == 'mask':\n",
        "      padValue = 0\n",
        "\n",
        "    paddedImage = np.pad(image, ((padHeight, botPad), (padWidth, rightPad)), mode='constant', constant_values=padValue)\n",
        "\n",
        "    return paddedImage"
      ],
      "metadata": {
        "id": "NQTrfaWIL20n"
      },
      "execution_count": null,
      "outputs": []
    },
    {
      "cell_type": "code",
      "source": [
        "def unPad(image, ogHeight = 404, ogWidth=157):\n",
        "  # shape of image will always be this after unet\n",
        "  height, width = 512, 256\n",
        "  padHeight = height - ogHeight\n",
        "  padWidth = width - ogWidth\n",
        "\n",
        "  startHeight = padHeight // 2\n",
        "  startWidth = padWidth // 2\n",
        "\n",
        "  endHeight = startHeight + ogHeight\n",
        "  endWidth = startWidth + ogWidth\n",
        "\n",
        "  unPadImage = image[startHeight:endHeight, startWidth:endWidth]\n",
        "\n",
        "  return unPadImage\n"
      ],
      "metadata": {
        "id": "LbHM4B9912Mq"
      },
      "execution_count": null,
      "outputs": []
    }
  ]
}